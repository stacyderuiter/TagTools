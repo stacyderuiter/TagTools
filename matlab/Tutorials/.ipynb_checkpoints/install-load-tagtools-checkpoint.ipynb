{
 "cells": [
  {
   "cell_type": "markdown",
   "id": "ee329fc1",
   "metadata": {},
   "source": [
    "# Installing and loading tagtools\n",
    "#### tagtools project team\n",
    "\n",
    "Welcome to this vignette! On behalf of the team behind tagtools, thanks for taking some time to get to know this package. We hope it is useful to you. \n",
    "\n",
    "In this vignette you will complete the first important setup steps of installing the package on your machine and making sure it is loaded in your session.\n",
    "\n",
    "<button class=\"btn btn-primary\" data-toggle=\"collapse\" data-target=\"#foobar\"> Show/Hide Results </button>  \n",
    "<div id=\"foobar\" class=\"collapse\"> Foo; bar. </div>\n",
    "\n",
    "*Estimated time for this vignette: 15 minutes with Matlab already installed, 20 minutes with Octave already installed.*\n",
    "\n",
    "# Installing tagtools for Matlab/Octave\n",
    "\n",
    "## Prerequisites\n",
    "\n",
    "Before you begin, you must have Matlab or Octave installed on your computer. \n",
    "\n",
    "Matlab is paid software with an annual subscription---it is very powerful if you can get it. It has very nice error catching (and suggested fixes to typos), plus very detailed documentation. You should have the standard sets of toolboxes to be able to use our package, however, which may incur additional costs. For more information about Matlab or to purchase it, see [MathWorks.com](https://www.mathworks.com/). Octave, by contrast, is free and open-source. You'll want the newest version (at least 6.2.0). For an easy install on Mac, see [octave-app.org](https://octave-app.org/). For Windows, other operating systems, and to \n",
    "\n",
    "This practical assumes that you have some basic experience working with this software, and can execute provided code. If you happen to be new to Matlab, the included Matlab Onramp is very good. For Octave, here are a couple of YouTube videos: [basic](https://www.youtube.com/watch?v=ZOs4eqoXPPA) and [slightly more advanced](https://www.youtube.com/watch?v=sHGqwF2s-tM). \n",
    "\n",
    "## Install tagtools \n",
    "\n",
    "### Matlab\n",
    "\n",
    "The workshop materials archive includes a folder called \"matlab\" with the Matlab/Octave versions of the tag tools inside.\n",
    "\n",
    "Unzip this folder and make sure that it is added to your Matlab path. (Move it to your working directory, right-click on the folder, and click \"Add to Path > Selected Folders & Subfolders.)\n",
    "\n",
    "The following commands will work as well, as long as you modify the paths to match where the folder is stored on your machine:\n"
   ]
  },
  {
   "cell_type": "code",
   "execution_count": 2,
   "id": "af5fdd2a",
   "metadata": {},
   "outputs": [],
   "source": [
    "addpath(genpath(\"/Users/sbf5/TagTools/matlab\"))\n",
    "rmpath(genpath(\"/Users/sbf5/TagTools/matlab/not-for-distribution\"))\n",
    "rmpath(genpath(\"/Users/sbf5/TagTools/matlab/compatibility\"))"
   ]
  },
  {
   "cell_type": "markdown",
   "id": "0b335e04",
   "metadata": {},
   "source": [
    "### Octave\n",
    "\n",
    "For Octave, there are a few more steps involved; please see:\n",
    "\n",
    "- [Help on animaltags.org on installing packages from Octave Forge](http://www.animaltags.org/doku.php?id=tagwiki:help:octave&s[]=octave&s[]=install#adding_the_tag_tools_to_your_work_path); \n",
    "- and then to add the tagtools folder to the path, <https://octave.org/doc/v4.0.1/Manipulating-the-Load-Path.html> \n",
    "\n",
    "## Check tagtools Installation\n",
    "\n",
    "Once the `tagtools` are successfully installed, you should be able to access function help files; for example, you could run:"
   ]
  },
  {
   "cell_type": "code",
   "execution_count": 3,
   "id": "92ed0db9",
   "metadata": {},
   "outputs": [
    {
     "name": "stdout",
     "output_type": "stream",
     "text": [
      "      load_nc\n",
      "      or\n",
      "      load_nc(fname)\n",
      " \t\tor\n",
      " \t\tX=load_nc(fname)\n",
      "      or\n",
      " \t\tX=load_nc(fname,vname)\n",
      " \n",
      "      Load variables from a NetCDF archive file. The file is assumed to be in \n",
      " \t\tthe current working directory unless a pathname is added to the beginning \n",
      " \t\tof fname. If fname is not specified, a file selection window is opened.\n",
      "      If no output argument is given, the variables will be created in\n",
      " \t\tthe current workplace, overwriting any variables with the same name that are\n",
      " \t\talready there. If an output argument is given, the variables will be stored\n",
      " \t\tas fields of a structure.\n",
      " \n",
      " \t\tInputs:\n",
      " \t\tfname is the name of the metadata file. If the name does not include a .nc\n",
      " \t\t suffix, this will be added automatically.\n",
      "      vname is the name of a single variable to read in. If not specified, all variables\n",
      "       in the file are read.\n",
      " \n",
      " \t\tReturns:\n",
      " \t\tX, if specified, is a structure containing sensor and metadata structures. The\n",
      " \t\t field names in X will be the same as the names of the variables in the NetCDF\n",
      " \t\t file, e.g., if the file contains A and P, X will have fields X.A, X.P and\n",
      " \t\t X.info (the file metadata).\n",
      " \n",
      " \t\tExample:\n",
      " \t\t load_nc('testset1')\n",
      "  \t    loads variables from file testset1.nc into the workplace.\n",
      " \n",
      "      Valid: Matlab, Octave\n",
      "      markjohnson@st-andrews.ac.uk\n",
      "      last modified: 05 July 2018\n",
      "         added file selection ui window\n",
      "\n"
     ]
    }
   ],
   "source": [
    "help load_nc"
   ]
  },
  {
   "cell_type": "markdown",
   "id": "6ee8fab3",
   "metadata": {},
   "source": [
    "# Review\n",
    "\n",
    "What have you learned so far? Important setup steps that will help avoid confusion and delay moving forward.\n",
    "\n",
    "Congrats!\n",
    "\n",
    "*If you'd like to continue working through these vignettes, `load-tag-data` and `plots-and-cropping` are good options to help you get started with the tools you've just installed and loaded.*\n",
    "\n",
    "*Perhaps your best starting option is 'load-tag-data', helpful for familiarizing yourself with the process of loading in data, as well as making sure that important metadata is included in the data.*\n",
    "\n",
    "\n",
    "*If you already feel confident with loading data, try `plots-and-cropping`---you'll get to start visualizing some data of the types you've been learning to load.* \n",
    "\n",
    "***\n",
    "\n",
    "Animaltags home pages: http://animaltags.org/ (old), https://animaltags.netlify.app/ (new), https://github.com/stacyderuiter/TagTools (for latest beta source code)"
   ]
  }
 ],
 "metadata": {
  "kernelspec": {
   "display_name": "Matlab",
   "language": "matlab",
   "name": "matlab"
  },
  "language_info": {
   "codemirror_mode": "octave",
   "file_extension": ".m",
   "help_links": [
    {
     "text": "MetaKernel Magics",
     "url": "https://metakernel.readthedocs.io/en/latest/source/README.html"
    }
   ],
   "mimetype": "text/x-octave",
   "name": "matlab",
   "version": "0.16.11"
  }
 },
 "nbformat": 4,
 "nbformat_minor": 5
}
